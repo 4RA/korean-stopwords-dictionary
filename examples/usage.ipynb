{
 "cells": [
  {
   "cell_type": "markdown",
   "id": "ddbfc0d6",
   "metadata": {},
   "source": [
    "\n",
    "# Usage Guide for Korean Stopwords Dictionary\n",
    "\n",
    "This notebook provides a quick guide on how to use the Korean stopwords dictionary provided in JSON and TXT formats. \n",
    "The dictionary is categorized into different types of stopwords (`조사`, `접속사`, `관형사`, `감탄사`, and `기타`), \n",
    "making it easy to selectively filter words in text processing tasks.\n"
   ]
  },
  {
   "cell_type": "markdown",
   "id": "551338f1",
   "metadata": {},
   "source": [
    "\n",
    "## Loading the Stopwords from JSON Format\n",
    "\n",
    "The JSON file organizes the stopwords by category. You can load the entire dictionary and access individual categories as needed.\n"
   ]
  },
  {
   "cell_type": "code",
   "execution_count": 1,
   "id": "c8d818f9",
   "metadata": {},
   "outputs": [
    {
     "name": "stdout",
     "output_type": "stream",
     "text": [
      "Stopwords structure: dict_keys(['조사', '접속사', '관형사', '감탄사', '기타'])\n",
      "조사 stopwords: ['가', '각', '과', '나', '너', '너희', '니', '대', '데', '도']\n"
     ]
    }
   ],
   "source": [
    "\n",
    "import json\n",
    "\n",
    "# Load the stopwords JSON file\n",
    "with open(\"stopwords_korean.json\", \"r\", encoding=\"utf-8\") as file:\n",
    "    stopwords = json.load(file)\n",
    "\n",
    "# Check the structure of the stopwords dictionary\n",
    "print(\"Stopwords structure:\", stopwords.keys())\n",
    "\n",
    "# Example: Print '조사' stopwords\n",
    "print(\"조사 stopwords:\", stopwords[\"조사\"][:10])\n"
   ]
  },
  {
   "cell_type": "markdown",
   "id": "a11565ba",
   "metadata": {},
   "source": [
    "\n",
    "## Loading the Stopwords from TXT Format\n",
    "\n",
    "The TXT file is organized with category headers marked by `#`. Each word is listed line-by-line under its category.\n",
    "This example shows how to load and structure the TXT file for use in your code.\n"
   ]
  },
  {
   "cell_type": "code",
   "execution_count": 2,
   "id": "e59c2d2f",
   "metadata": {},
   "outputs": [
    {
     "name": "stdout",
     "output_type": "stream",
     "text": [
      "조사 stopwords (TXT): ['가', '각', '과', '나', '너', '너희', '니', '대', '데', '도']\n"
     ]
    }
   ],
   "source": [
    "\n",
    "# Load the stopwords from the TXT file\n",
    "stopwords_txt = {}\n",
    "\n",
    "with open(\"stopwords_korean.txt\", \"r\", encoding=\"utf-8\") as file:\n",
    "    current_category = None\n",
    "    for line in file:\n",
    "        line = line.strip()\n",
    "        if line.startswith(\"#\"):\n",
    "            # Set the current category\n",
    "            current_category = line[1:].strip()\n",
    "            stopwords_txt[current_category] = []\n",
    "        elif line:\n",
    "            # Append the word to the current category\n",
    "            stopwords_txt[current_category].append(line)\n",
    "\n",
    "# Example: Print first few '조사' stopwords\n",
    "print(\"조사 stopwords (TXT):\", stopwords_txt[\"조사\"][:10])\n"
   ]
  },
  {
   "cell_type": "markdown",
   "id": "b946712f",
   "metadata": {},
   "source": [
    "\n",
    "## Example: Removing Stopwords from Text\n",
    "\n",
    "The following function, `remove_stopwords`, takes a text input and removes any stopwords based on specified categories.\n",
    "By default, it removes stopwords from all categories, but you can customize it by specifying the categories you want to filter.\n"
   ]
  },
  {
   "cell_type": "code",
   "execution_count": 3,
   "id": "8ef79992",
   "metadata": {},
   "outputs": [
    {
     "name": "stdout",
     "output_type": "stream",
     "text": [
      "Original text: 이 텍스트는 예시로 작성되었습니다.\n",
      "Filtered text: 텍스트는 예시로 작성되었습니다.\n"
     ]
    }
   ],
   "source": [
    "\n",
    "def remove_stopwords(text, stopwords_dict, categories=[\"조사\", \"접속사\", \"관형사\", \"감탄사\", \"기타\"]):\n",
    "    # Remove stopwords from text based on specified categories.\n",
    "    # Parameters:\n",
    "    #     text (str): The input text to filter.\n",
    "    #     stopwords_dict (dict): Dictionary of stopwords.\n",
    "    #     categories (list): List of stopword categories to filter out.\n",
    "    # Returns:\n",
    "    #     str: The filtered text without stopwords.\n",
    "\n",
    "    words = text.split()\n",
    "    filtered_words = [word for word in words if all(word not in stopwords_dict[cat] for cat in categories)]\n",
    "    return \" \".join(filtered_words)\n",
    "\n",
    "# Example usage\n",
    "sample_text = \"이 텍스트는 예시로 작성되었습니다.\"\n",
    "filtered_text = remove_stopwords(sample_text, stopwords)\n",
    "print(\"Original text:\", sample_text)\n",
    "print(\"Filtered text:\", filtered_text)\n"
   ]
  }
 ],
 "metadata": {
  "kernelspec": {
   "display_name": "base",
   "language": "python",
   "name": "python3"
  },
  "language_info": {
   "codemirror_mode": {
    "name": "ipython",
    "version": 3
   },
   "file_extension": ".py",
   "mimetype": "text/x-python",
   "name": "python",
   "nbconvert_exporter": "python",
   "pygments_lexer": "ipython3",
   "version": "3.12.4"
  }
 },
 "nbformat": 4,
 "nbformat_minor": 5
}
